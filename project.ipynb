{
 "cells": [
  {
   "cell_type": "markdown",
   "metadata": {},
   "source": [
    "<h1 align=\"center\">Churn prediction Beta Bank- Supervised Learning</h1>\n",
    "\n",
    "Los clientes de Beta Bank se están yendo poco a poco cada mes. Los banqueros han descubierto que es más rentable retener a los clientes existentes que atraer nuevos. Por lo tanto, es necesario predecir si un cliente dejará el banco en el corto plazo. Para ello, se cuenta con datos sobre el comportamiento pasado de los clientes y la finalización de sus contratos con el banco.\n",
    "\n",
    "El objetivo es crear un modelo con el mayor valor *F1* posible, con un valor mínimo requerido de *F1* de 0.59. Además, se debe medir la métrica *AUC-ROC* y compararla con el valor *F1*.\n",
    "\n",
    "## Instrucciones del Proyecto\n",
    "\n",
    "1. Descargar y preparar los datos, explicando el procedimiento utilizado.\n",
    "2. Examinar el equilibrio de clases y entrenar el modelo sin tener en cuenta el desequilibrio, describiendo brevemente los hallazgos.\n",
    "3. Mejorar la calidad del modelo utilizando al menos dos enfoques para corregir el desequilibrio de clases. Se deben usar conjuntos de entrenamiento y validación para encontrar el mejor modelo y conjunto de parámetros. Entrenar diferentes modelos en estos conjuntos y seleccionar el mejor, describiendo brevemente los hallazgos.\n",
    "4. Realizar la prueba final.\n",
    "\n",
    "## Diccionario de datos\n",
    "\n",
    "Los datos están disponibles en el directorio: `./datasets/Churn.csv`.\n",
    "\n",
    "**Características**\n",
    "\n",
    "- *RowNumber*: Índice de cadena de datos.\n",
    "- *CustomerId*: Identificador único del cliente.\n",
    "- *Surname*: Apellido.\n",
    "- *CreditScore*: Puntaje de crédito.\n",
    "- *Geography*: País de residencia.\n",
    "- *Gender*: Sexo.\n",
    "- *Age*: Edad.\n",
    "- *Tenure*: Período durante el cual el depósito a plazo fijo de un cliente ha madurado (años).\n",
    "- *Balance*: Saldo de la cuenta.\n",
    "- *NumOfProducts*: Número de productos bancarios utilizados por el cliente.\n",
    "- *HasCrCard*: El cliente tiene una tarjeta de crédito (1 - sí; 0 - no).\n",
    "- *IsActiveMember*: Actividad del cliente (1 - sí; 0 - no).\n",
    "- *EstimatedSalary*: Salario estimado.\n",
    "\n",
    "**Objetivo**\n",
    "\n",
    "- *Exited*: indica si el cliente se ha ido (1 - sí; 0 - no)."
   ]
  },
  {
   "cell_type": "markdown",
   "metadata": {},
   "source": [
    "## Contenido <a id='back'></a>\n",
    "\n",
    "* [Desarrollo del proyecto](#introduction)\n",
    "* [Examinar el equilibrio de clases y entrenar el modelo sin tener en cuenta el desequilibrio](#first_train)\n",
    "* [Mejorar la calidad del modelo utilizando al menos dos enfoques para corregir el desequilibrio de clases.](#update_model)\n",
    "* [Entrenar diferentes modelos](#train_models)\n",
    "* [Prueba final](#last_test)\n",
    "* [Conclusión](#end)"
   ]
  },
  {
   "cell_type": "markdown",
   "metadata": {},
   "source": [
    "## Desarrollo del proyecto <a id=\"introduction\"></a>"
   ]
  },
  {
   "cell_type": "code",
   "execution_count": 1,
   "metadata": {},
   "outputs": [],
   "source": [
    "import numpy as np\n",
    "import pandas as pd\n",
    "\n",
    "from sklearn.model_selection import train_test_split\n",
    "from sklearn.tree import DecisionTreeClassifier\n",
    "from sklearn.ensemble import RandomForestClassifier\n",
    "from sklearn.linear_model import LogisticRegression\n",
    "from sklearn.metrics import recall_score, precision_score, f1_score, roc_auc_score\n",
    "from sklearn.preprocessing import OrdinalEncoder\n",
    "from sklearn.utils import shuffle"
   ]
  },
  {
   "cell_type": "code",
   "execution_count": 2,
   "metadata": {},
   "outputs": [],
   "source": [
    "# Acceso a los registros del recurso \"Churn\"\n",
    "\n",
    "data = pd.read_csv('./datasets/Churn.csv')"
   ]
  },
  {
   "cell_type": "code",
   "execution_count": 3,
   "metadata": {},
   "outputs": [
    {
     "name": "stdout",
     "output_type": "stream",
     "text": [
      "\u001b[1m Muestra aleatoria de filas del DataFrame 'churn':\n"
     ]
    },
    {
     "data": {
      "text/html": [
       "<div>\n",
       "<style scoped>\n",
       "    .dataframe tbody tr th:only-of-type {\n",
       "        vertical-align: middle;\n",
       "    }\n",
       "\n",
       "    .dataframe tbody tr th {\n",
       "        vertical-align: top;\n",
       "    }\n",
       "\n",
       "    .dataframe thead th {\n",
       "        text-align: right;\n",
       "    }\n",
       "</style>\n",
       "<table border=\"1\" class=\"dataframe\">\n",
       "  <thead>\n",
       "    <tr style=\"text-align: right;\">\n",
       "      <th></th>\n",
       "      <th>RowNumber</th>\n",
       "      <th>CustomerId</th>\n",
       "      <th>Surname</th>\n",
       "      <th>CreditScore</th>\n",
       "      <th>Geography</th>\n",
       "      <th>Gender</th>\n",
       "      <th>Age</th>\n",
       "      <th>Tenure</th>\n",
       "      <th>Balance</th>\n",
       "      <th>NumOfProducts</th>\n",
       "      <th>HasCrCard</th>\n",
       "      <th>IsActiveMember</th>\n",
       "      <th>EstimatedSalary</th>\n",
       "      <th>Exited</th>\n",
       "    </tr>\n",
       "  </thead>\n",
       "  <tbody>\n",
       "    <tr>\n",
       "      <th>1120</th>\n",
       "      <td>1121</td>\n",
       "      <td>15589358</td>\n",
       "      <td>Stanley</td>\n",
       "      <td>848</td>\n",
       "      <td>Germany</td>\n",
       "      <td>Male</td>\n",
       "      <td>31</td>\n",
       "      <td>4.0</td>\n",
       "      <td>90018.45</td>\n",
       "      <td>2</td>\n",
       "      <td>1</td>\n",
       "      <td>0</td>\n",
       "      <td>193132.98</td>\n",
       "      <td>0</td>\n",
       "    </tr>\n",
       "    <tr>\n",
       "      <th>2046</th>\n",
       "      <td>2047</td>\n",
       "      <td>15733429</td>\n",
       "      <td>Chou</td>\n",
       "      <td>520</td>\n",
       "      <td>Germany</td>\n",
       "      <td>Male</td>\n",
       "      <td>34</td>\n",
       "      <td>8.0</td>\n",
       "      <td>120018.86</td>\n",
       "      <td>2</td>\n",
       "      <td>1</td>\n",
       "      <td>1</td>\n",
       "      <td>343.38</td>\n",
       "      <td>0</td>\n",
       "    </tr>\n",
       "    <tr>\n",
       "      <th>8085</th>\n",
       "      <td>8086</td>\n",
       "      <td>15656286</td>\n",
       "      <td>Sims</td>\n",
       "      <td>794</td>\n",
       "      <td>France</td>\n",
       "      <td>Male</td>\n",
       "      <td>33</td>\n",
       "      <td>0.0</td>\n",
       "      <td>0.00</td>\n",
       "      <td>2</td>\n",
       "      <td>0</td>\n",
       "      <td>0</td>\n",
       "      <td>178122.71</td>\n",
       "      <td>0</td>\n",
       "    </tr>\n",
       "    <tr>\n",
       "      <th>1200</th>\n",
       "      <td>1201</td>\n",
       "      <td>15804602</td>\n",
       "      <td>Boyd</td>\n",
       "      <td>772</td>\n",
       "      <td>Germany</td>\n",
       "      <td>Male</td>\n",
       "      <td>30</td>\n",
       "      <td>6.0</td>\n",
       "      <td>99785.28</td>\n",
       "      <td>2</td>\n",
       "      <td>0</td>\n",
       "      <td>0</td>\n",
       "      <td>197238.03</td>\n",
       "      <td>0</td>\n",
       "    </tr>\n",
       "    <tr>\n",
       "      <th>8589</th>\n",
       "      <td>8590</td>\n",
       "      <td>15637829</td>\n",
       "      <td>Sharpe</td>\n",
       "      <td>691</td>\n",
       "      <td>France</td>\n",
       "      <td>Female</td>\n",
       "      <td>34</td>\n",
       "      <td>NaN</td>\n",
       "      <td>0.00</td>\n",
       "      <td>2</td>\n",
       "      <td>0</td>\n",
       "      <td>1</td>\n",
       "      <td>161559.12</td>\n",
       "      <td>0</td>\n",
       "    </tr>\n",
       "    <tr>\n",
       "      <th>6863</th>\n",
       "      <td>6864</td>\n",
       "      <td>15765732</td>\n",
       "      <td>Simmons</td>\n",
       "      <td>564</td>\n",
       "      <td>Spain</td>\n",
       "      <td>Female</td>\n",
       "      <td>24</td>\n",
       "      <td>6.0</td>\n",
       "      <td>149592.14</td>\n",
       "      <td>1</td>\n",
       "      <td>1</td>\n",
       "      <td>1</td>\n",
       "      <td>153771.80</td>\n",
       "      <td>0</td>\n",
       "    </tr>\n",
       "    <tr>\n",
       "      <th>3746</th>\n",
       "      <td>3747</td>\n",
       "      <td>15804709</td>\n",
       "      <td>Watt</td>\n",
       "      <td>688</td>\n",
       "      <td>Germany</td>\n",
       "      <td>Male</td>\n",
       "      <td>35</td>\n",
       "      <td>5.0</td>\n",
       "      <td>111578.18</td>\n",
       "      <td>1</td>\n",
       "      <td>0</td>\n",
       "      <td>0</td>\n",
       "      <td>166165.93</td>\n",
       "      <td>1</td>\n",
       "    </tr>\n",
       "    <tr>\n",
       "      <th>4156</th>\n",
       "      <td>4157</td>\n",
       "      <td>15599452</td>\n",
       "      <td>Conti</td>\n",
       "      <td>605</td>\n",
       "      <td>Germany</td>\n",
       "      <td>Female</td>\n",
       "      <td>43</td>\n",
       "      <td>NaN</td>\n",
       "      <td>125338.80</td>\n",
       "      <td>2</td>\n",
       "      <td>1</td>\n",
       "      <td>0</td>\n",
       "      <td>23970.13</td>\n",
       "      <td>0</td>\n",
       "    </tr>\n",
       "    <tr>\n",
       "      <th>8294</th>\n",
       "      <td>8295</td>\n",
       "      <td>15569430</td>\n",
       "      <td>Burrows</td>\n",
       "      <td>704</td>\n",
       "      <td>Spain</td>\n",
       "      <td>Female</td>\n",
       "      <td>36</td>\n",
       "      <td>2.0</td>\n",
       "      <td>175509.80</td>\n",
       "      <td>2</td>\n",
       "      <td>1</td>\n",
       "      <td>0</td>\n",
       "      <td>152039.67</td>\n",
       "      <td>0</td>\n",
       "    </tr>\n",
       "    <tr>\n",
       "      <th>5312</th>\n",
       "      <td>5313</td>\n",
       "      <td>15726178</td>\n",
       "      <td>Hardy</td>\n",
       "      <td>712</td>\n",
       "      <td>Spain</td>\n",
       "      <td>Female</td>\n",
       "      <td>48</td>\n",
       "      <td>8.0</td>\n",
       "      <td>0.00</td>\n",
       "      <td>2</td>\n",
       "      <td>1</td>\n",
       "      <td>0</td>\n",
       "      <td>183235.33</td>\n",
       "      <td>0</td>\n",
       "    </tr>\n",
       "    <tr>\n",
       "      <th>9532</th>\n",
       "      <td>9533</td>\n",
       "      <td>15643828</td>\n",
       "      <td>Teng</td>\n",
       "      <td>592</td>\n",
       "      <td>France</td>\n",
       "      <td>Male</td>\n",
       "      <td>29</td>\n",
       "      <td>NaN</td>\n",
       "      <td>0.00</td>\n",
       "      <td>2</td>\n",
       "      <td>1</td>\n",
       "      <td>1</td>\n",
       "      <td>91196.67</td>\n",
       "      <td>0</td>\n",
       "    </tr>\n",
       "    <tr>\n",
       "      <th>8539</th>\n",
       "      <td>8540</td>\n",
       "      <td>15668594</td>\n",
       "      <td>Diggs</td>\n",
       "      <td>620</td>\n",
       "      <td>Germany</td>\n",
       "      <td>Female</td>\n",
       "      <td>25</td>\n",
       "      <td>NaN</td>\n",
       "      <td>137712.01</td>\n",
       "      <td>1</td>\n",
       "      <td>1</td>\n",
       "      <td>1</td>\n",
       "      <td>76197.05</td>\n",
       "      <td>0</td>\n",
       "    </tr>\n",
       "    <tr>\n",
       "      <th>4733</th>\n",
       "      <td>4734</td>\n",
       "      <td>15743538</td>\n",
       "      <td>Pickering</td>\n",
       "      <td>710</td>\n",
       "      <td>France</td>\n",
       "      <td>Female</td>\n",
       "      <td>31</td>\n",
       "      <td>1.0</td>\n",
       "      <td>0.00</td>\n",
       "      <td>2</td>\n",
       "      <td>1</td>\n",
       "      <td>0</td>\n",
       "      <td>20081.30</td>\n",
       "      <td>0</td>\n",
       "    </tr>\n",
       "    <tr>\n",
       "      <th>9867</th>\n",
       "      <td>9868</td>\n",
       "      <td>15620936</td>\n",
       "      <td>Warren</td>\n",
       "      <td>787</td>\n",
       "      <td>France</td>\n",
       "      <td>Male</td>\n",
       "      <td>32</td>\n",
       "      <td>4.0</td>\n",
       "      <td>0.00</td>\n",
       "      <td>2</td>\n",
       "      <td>1</td>\n",
       "      <td>1</td>\n",
       "      <td>13238.93</td>\n",
       "      <td>0</td>\n",
       "    </tr>\n",
       "    <tr>\n",
       "      <th>8867</th>\n",
       "      <td>8868</td>\n",
       "      <td>15653773</td>\n",
       "      <td>Shaw</td>\n",
       "      <td>457</td>\n",
       "      <td>France</td>\n",
       "      <td>Female</td>\n",
       "      <td>38</td>\n",
       "      <td>7.0</td>\n",
       "      <td>164496.99</td>\n",
       "      <td>1</td>\n",
       "      <td>1</td>\n",
       "      <td>1</td>\n",
       "      <td>163327.27</td>\n",
       "      <td>0</td>\n",
       "    </tr>\n",
       "  </tbody>\n",
       "</table>\n",
       "</div>"
      ],
      "text/plain": [
       "      RowNumber  CustomerId    Surname  CreditScore Geography  Gender  Age  \\\n",
       "1120       1121    15589358    Stanley          848   Germany    Male   31   \n",
       "2046       2047    15733429       Chou          520   Germany    Male   34   \n",
       "8085       8086    15656286       Sims          794    France    Male   33   \n",
       "1200       1201    15804602       Boyd          772   Germany    Male   30   \n",
       "8589       8590    15637829     Sharpe          691    France  Female   34   \n",
       "6863       6864    15765732    Simmons          564     Spain  Female   24   \n",
       "3746       3747    15804709       Watt          688   Germany    Male   35   \n",
       "4156       4157    15599452      Conti          605   Germany  Female   43   \n",
       "8294       8295    15569430    Burrows          704     Spain  Female   36   \n",
       "5312       5313    15726178      Hardy          712     Spain  Female   48   \n",
       "9532       9533    15643828       Teng          592    France    Male   29   \n",
       "8539       8540    15668594      Diggs          620   Germany  Female   25   \n",
       "4733       4734    15743538  Pickering          710    France  Female   31   \n",
       "9867       9868    15620936     Warren          787    France    Male   32   \n",
       "8867       8868    15653773       Shaw          457    France  Female   38   \n",
       "\n",
       "      Tenure    Balance  NumOfProducts  HasCrCard  IsActiveMember  \\\n",
       "1120     4.0   90018.45              2          1               0   \n",
       "2046     8.0  120018.86              2          1               1   \n",
       "8085     0.0       0.00              2          0               0   \n",
       "1200     6.0   99785.28              2          0               0   \n",
       "8589     NaN       0.00              2          0               1   \n",
       "6863     6.0  149592.14              1          1               1   \n",
       "3746     5.0  111578.18              1          0               0   \n",
       "4156     NaN  125338.80              2          1               0   \n",
       "8294     2.0  175509.80              2          1               0   \n",
       "5312     8.0       0.00              2          1               0   \n",
       "9532     NaN       0.00              2          1               1   \n",
       "8539     NaN  137712.01              1          1               1   \n",
       "4733     1.0       0.00              2          1               0   \n",
       "9867     4.0       0.00              2          1               1   \n",
       "8867     7.0  164496.99              1          1               1   \n",
       "\n",
       "      EstimatedSalary  Exited  \n",
       "1120        193132.98       0  \n",
       "2046           343.38       0  \n",
       "8085        178122.71       0  \n",
       "1200        197238.03       0  \n",
       "8589        161559.12       0  \n",
       "6863        153771.80       0  \n",
       "3746        166165.93       1  \n",
       "4156         23970.13       0  \n",
       "8294        152039.67       0  \n",
       "5312        183235.33       0  \n",
       "9532         91196.67       0  \n",
       "8539         76197.05       0  \n",
       "4733         20081.30       0  \n",
       "9867         13238.93       0  \n",
       "8867        163327.27       0  "
      ]
     },
     "metadata": {},
     "output_type": "display_data"
    },
    {
     "name": "stdout",
     "output_type": "stream",
     "text": [
      "\u001b[1m Resumen del DataFrame 'churn':\u001b[0m \n",
      "\n",
      "<class 'pandas.core.frame.DataFrame'>\n",
      "RangeIndex: 10000 entries, 0 to 9999\n",
      "Data columns (total 14 columns):\n",
      " #   Column           Non-Null Count  Dtype  \n",
      "---  ------           --------------  -----  \n",
      " 0   RowNumber        10000 non-null  int64  \n",
      " 1   CustomerId       10000 non-null  int64  \n",
      " 2   Surname          10000 non-null  object \n",
      " 3   CreditScore      10000 non-null  int64  \n",
      " 4   Geography        10000 non-null  object \n",
      " 5   Gender           10000 non-null  object \n",
      " 6   Age              10000 non-null  int64  \n",
      " 7   Tenure           9091 non-null   float64\n",
      " 8   Balance          10000 non-null  float64\n",
      " 9   NumOfProducts    10000 non-null  int64  \n",
      " 10  HasCrCard        10000 non-null  int64  \n",
      " 11  IsActiveMember   10000 non-null  int64  \n",
      " 12  EstimatedSalary  10000 non-null  float64\n",
      " 13  Exited           10000 non-null  int64  \n",
      "dtypes: float64(3), int64(8), object(3)\n",
      "memory usage: 1.1+ MB\n",
      "Regristos duplicados:  0\n"
     ]
    }
   ],
   "source": [
    "# Obtener información general sobre los registros del DataFrame 'churn'\n",
    "\n",
    "print(\"\\033[1m Muestra aleatoria de filas del DataFrame 'churn':\")\n",
    "\n",
    "display(data.sample(15, random_state=1425))\n",
    "\n",
    "print(\"\\033[1m Resumen del DataFrame 'churn':\\033[0m \\n\")\n",
    "\n",
    "data.info()\n",
    "\n",
    "print(\"Regristos duplicados: \", data.duplicated().sum())"
   ]
  },
  {
   "cell_type": "markdown",
   "metadata": {},
   "source": [
    "**Interpretación**\n",
    "\n",
    "El DataFrame contiene datos de 10,000 clientes de Beta Bank. Incluye variables como puntaje crediticio, país de residencia, género, edad, saldo de cuenta y estado de retención de clientes, todas ellas con el tipo de dato adecuado. Se ha detectado un pequeño número de valores faltantes en la duración de la tenencia (Tenure) de los depósitos a plazo fijo de los clientes. No se han identificado registros duplicados en el conjunto de datos.\n",
    "\n",
    "Para los valores ausentes en 'Tenure', se verificará si los datos contienen valores atípicos para determinar si se deben reemplazar con la media o la mediana. Para decidir cuál de estos valores es más representativo, podemos seguir estos pasos:\n",
    "\n",
    "1. Determinar la presencia de valores atípicos significativos en los datos.\n",
    "2. Si no hay valores atípicos significativos, calcular la media.\n",
    "3. Si se identifican valores atípicos significativos, calcular la mediana.\n",
    "4. Reemplazar los valores faltantes con la media o la mediana, según corresponda."
   ]
  },
  {
   "cell_type": "markdown",
   "metadata": {},
   "source": [
    "[Volver a Contenidos](#back)"
   ]
  },
  {
   "cell_type": "markdown",
   "metadata": {},
   "source": [
    "**Procesamiento de datos**"
   ]
  },
  {
   "cell_type": "code",
   "execution_count": 4,
   "metadata": {},
   "outputs": [
    {
     "name": "stdout",
     "output_type": "stream",
     "text": [
      "Límite inferior: -5.5\n",
      "Límite superior: 14.5\n",
      "Max: 10.0\n",
      "Min: 0.0\n",
      "Usar la media para reemplazar los valores ausentes\n"
     ]
    }
   ],
   "source": [
    "# Obtener los cuartiles\n",
    "Q1 = np.nanpercentile(data['Tenure'], 25)\n",
    "Q3 = np.nanpercentile(data['Tenure'], 75)\n",
    "\n",
    "# Calular el rango intercuartílico y los valores atípicos\n",
    "IQR = Q3 - Q1\n",
    "lower_bound = Q1 - 1.5 * IQR\n",
    "upper_bound = Q3 + 1.5 * IQR\n",
    "\n",
    "print(\"Límite inferior:\", lower_bound)\n",
    "print(\"Límite superior:\", upper_bound)\n",
    "\n",
    "print(\"Max:\",data['Tenure'].max())\n",
    "print(\"Min:\",data['Tenure'].min())\n",
    "\n",
    "if  data['Tenure'].min() < lower_bound or data['Tenure'].max() > upper_bound:\n",
    "    print(\"Usar la mediana para reemplazar los valores ausentes\")\n",
    "else:\n",
    "    print(\"Usar la media para reemplazar los valores ausentes\")\n"
   ]
  },
  {
   "cell_type": "markdown",
   "metadata": {},
   "source": [
    "**Interpretación**\n",
    "\n",
    "Dado que no hay valores atípicos significativos, procederemos a reemplazar los valores NaN de 'Tenure' con la media."
   ]
  },
  {
   "cell_type": "code",
   "execution_count": 5,
   "metadata": {},
   "outputs": [],
   "source": [
    "# Reemplazar valores ausentes con la media de Tenure\n",
    "\n",
    "tenure_mean = data['Tenure'].mean()\n",
    "\n",
    "data['Tenure'] = data['Tenure'].fillna(tenure_mean)"
   ]
  },
  {
   "cell_type": "markdown",
   "metadata": {},
   "source": [
    "[Volver a Contenidos](#back)"
   ]
  },
  {
   "cell_type": "markdown",
   "metadata": {},
   "source": [
    "## Examinar el equilibrio de clases y entrenar el modelo sin tener en cuenta el desequilibrio <a id=\"first_train\"></a>"
   ]
  },
  {
   "cell_type": "code",
   "execution_count": 6,
   "metadata": {},
   "outputs": [
    {
     "name": "stdout",
     "output_type": "stream",
     "text": [
      "Frecuencia de clases:\n",
      "Exited\n",
      "0    0.7963\n",
      "1    0.2037\n",
      "Name: proportion, dtype: float64\n"
     ]
    },
    {
     "data": {
      "text/plain": [
       "<Axes: ylabel='proportion'>"
      ]
     },
     "execution_count": 6,
     "metadata": {},
     "output_type": "execute_result"
    },
    {
     "data": {
      "image/png": "[encoded data removed]",
      "text/plain": [
       "<Figure size 640x480 with 1 Axes>"
      ]
     },
     "metadata": {},
     "output_type": "display_data"
    }
   ],
   "source": [
    "class_freq = data['Exited'].value_counts(normalize=True)\n",
    "\n",
    "print(\"Frecuencia de clases:\")\n",
    "\n",
    "print(class_freq)\n",
    "\n",
    "class_freq.plot(kind='pie', autopct='%1.1f%%') \n"
   ]
  },
  {
   "cell_type": "markdown",
   "metadata": {},
   "source": [
    "**Interpretación**\n",
    "\n",
    "El análisis de la frecuencia de clases muestra un claro desequilibrio entre las dos clases en el objetivo *Exited*. \n",
    "\n",
    "- La clase \"0\" (clientes que no se han ido) representa aproximadamente el 79.63% de los datos.\n",
    "- La clase \"1\" (clientes que se han ido) constituye el 20.37% restante.\n",
    "\n",
    "Este desequilibrio indica que la mayoría de los clientes han permanecido en el banco, mientras que una minoría ha decidido irse. Tal desbalance puede afectar el rendimiento de los modelos de clasificación, ya que estos tienden a inclinarse hacia la clase mayoritaria. Es probable que un modelo entrenado en este conjunto de datos prediga con mayor frecuencia que un cliente no se irá, simplemente porque esa es la opción más común."
   ]
  },
  {
   "cell_type": "markdown",
   "metadata": {},
   "source": [
    "[Volver a Contenidos](#back)"
   ]
  },
  {
   "cell_type": "markdown",
   "metadata": {},
   "source": [
    "**Entrenamiento del modelo sin tener en cuenta el desequilibrio.**\n",
    "\n",
    "Al considerar las características para entrenar el modelo de predicción de abandono de clientes, es importante identificar aquellas que son verdaderamente informativas y relevantes para el comportamiento que queremos predecir. En este caso, el apellido del cliente, así como el índice de fila y el identificador único de cliente, considero que no tienen una relación directa con la decisión de un cliente de abandonar el banco. Por lo tanto, incluir estas características en el modelo no solo es innecesario, sino que también puede introducir ruido en el análisis. Es por ello que sería recomendable eliminar estas características antes de entrenar el modelo para garantizar que se utilicen solo las variables significativas y mejorar la precisión del modelo en la predicción del abandono de clientes."
   ]
  },
  {
   "cell_type": "code",
   "execution_count": 7,
   "metadata": {},
   "outputs": [
    {
     "name": "stdout",
     "output_type": "stream",
     "text": [
      "Métricas de evaluación:\n",
      "Recall score: 0.4411214953271028\n",
      "Precision score: 0.7866666666666666\n",
      "F1 score: 0.5652694610778443\n",
      "AUC ROC score: 0.8506137785070509\n"
     ]
    }
   ],
   "source": [
    "# Entrenar el modelo sin tener en cuenta el desequilibrio. \n",
    "\n",
    "features = data.drop(['Exited', 'Surname', 'RowNumber', 'CustomerId'], axis=1)\n",
    "\n",
    "target = data['Exited']\n",
    "\n",
    "\n",
    "# Codificación de etiquetas\n",
    "\n",
    "encoder = OrdinalEncoder()\n",
    "\n",
    "categorical_columns = features.select_dtypes(include=['object']).columns\n",
    "\n",
    "features_encoder = pd.DataFrame(encoder.fit_transform(features[categorical_columns]),  columns=categorical_columns)\n",
    "\n",
    "features[categorical_columns] = features_encoder\n",
    "\n",
    "\n",
    "\n",
    "features_train, features_valid, target_train, target_valid = train_test_split(features, target, test_size=0.25, random_state=12345)\n",
    "\n",
    "\n",
    "# Entrenamiento del modelo\n",
    "\n",
    "model = RandomForestClassifier(random_state=12345)\n",
    "model.fit(features_train, target_train)\n",
    "predicted_valid = model.predict(features_valid)\n",
    "\n",
    "\n",
    "# Calcular métricas de evaluación\n",
    "\n",
    "recall = recall_score(target_valid, predicted_valid)\n",
    "precision = precision_score(target_valid, predicted_valid)\n",
    "f1 = f1_score(target_valid, predicted_valid)\n",
    "\n",
    "\n",
    "probabilities_valid = model.predict_proba(features_valid)\n",
    "probabilities_one_valid = probabilities_valid[:, 1]\n",
    "auc_roc = roc_auc_score(target_valid, probabilities_one_valid)\n",
    "\n",
    "\n",
    "print(\"Métricas de evaluación:\")\n",
    "print(\"Recall score:\", recall)\n",
    "print(\"Precision score:\", precision)\n",
    "print(\"F1 score:\", f1)\n",
    "print(\"AUC ROC score:\", auc_roc)"
   ]
  },
  {
   "cell_type": "markdown",
   "metadata": {},
   "source": [
    "**Interpretación**\n",
    "\n",
    "Los resultados muestran que el conjunto de datos está desequilibrado, con aproximadamente el 79.6% de los clientes que no han abandonado el banco y el 20.4% abandonándolo. A pesar de este desequilibrio, el modelo logra un puntaje de recall de aproximadamente 0.44, lo que significa que logra identificar correctamente alrededor del 44% de los clientes que realmente abandonaron el banco. Sin embargo, la precisión es alta, alrededor del 78%, lo que indica que de los clientes que el modelo predijo como abandonados, el 78% realmente lo hicieron. El puntaje F1, que combina recall y precisión, es del 56%, lo que indica un equilibrio entre las dos métricas. Esto sugiere que el modelo es capaz de identificar correctamente a algunos de los clientes que abandonaron el banco, pero también puede estar generando falsos positivos. Además, el puntaje AUC ROC es de aproximadamente 0.85, lo que indica un buen rendimiento general del modelo en términos de su capacidad para discriminar entre las clases positiva y negativa."
   ]
  },
  {
   "cell_type": "markdown",
   "metadata": {},
   "source": [
    "[Volver a Contenidos](#back)"
   ]
  },
  {
   "cell_type": "markdown",
   "metadata": {},
   "source": [
    "## Mejorar la calidad del modelo utilizando al menos dos enfoques para corregir el desequilibrio de clases <a id=\"update_model\"> </a>"
   ]
  },
  {
   "cell_type": "markdown",
   "metadata": {},
   "source": [
    "**Ajuste de peso de clase**"
   ]
  },
  {
   "cell_type": "code",
   "execution_count": 8,
   "metadata": {},
   "outputs": [
    {
     "name": "stdout",
     "output_type": "stream",
     "text": [
      "Métricas con el ajuste de clases de 'Ajuste de peso de clase'\n",
      "Recall score: 0.42990654205607476\n",
      "Precision score: 0.7876712328767124\n",
      "F1 score: 0.5562273276904474\n",
      "AUC ROC score: 0.8525561817792681\n"
     ]
    }
   ],
   "source": [
    "# Equilibrar clases\n",
    "\n",
    "model = RandomForestClassifier(random_state=12345, class_weight='balanced')\n",
    "\n",
    "model.fit(features_train, target_train)\n",
    "\n",
    "predicted_valid = model.predict(features_valid)\n",
    "\n",
    "recall = recall_score(target_valid, predicted_valid)\n",
    "precision = precision_score(target_valid, predicted_valid)\n",
    "f1 = f1_score(target_valid, predicted_valid)\n",
    "\n",
    "probabilities_valid = model.predict_proba(features_valid)\n",
    "probabilities_one_valid = probabilities_valid[:,1]\n",
    "auc_roc = roc_auc_score(target_valid, probabilities_one_valid)\n",
    "\n",
    "\n",
    "print(\"Métricas con el ajuste de clases de 'Ajuste de peso de clase'\")\n",
    "print(\"Recall score:\", recall)\n",
    "print(\"Precision score:\", precision)\n",
    "print(\"F1 score:\", f1)\n",
    "print(\"AUC ROC score:\", auc_roc)"
   ]
  },
  {
   "cell_type": "markdown",
   "metadata": {},
   "source": [
    "**Interpretación**\n",
    "\n",
    "El ajuste de equilibrio de clases con el 'Ajuste de peso de clase' muestra una precisión más alta, lo que indica una reducción en los falsos positivos, pero un puntaje de recall más bajo en comparación con el sobremuestreo, lo que sugiere una compensación entre la precisión y el recall. Además, ambos modelos logran puntajes AUC ROC similares, lo que indica que tienen un buen rendimiento en la capacidad para discriminar entre las clases positiva y negativa."
   ]
  },
  {
   "cell_type": "markdown",
   "metadata": {},
   "source": [
    "**Upsample**"
   ]
  },
  {
   "cell_type": "code",
   "execution_count": 9,
   "metadata": {},
   "outputs": [
    {
     "name": "stdout",
     "output_type": "stream",
     "text": [
      "Métricas con el ajuste de clases de 'Sobremuestreo'\n",
      "Recall score: 0.5439252336448598\n",
      "Precision score: 0.6928571428571428\n",
      "F1 score: 0.6094240837696335\n",
      "AUC ROC score: 0.8415043637487811\n"
     ]
    }
   ],
   "source": [
    "# Sobremuestreo\n",
    "\n",
    "def upsample(features, target, repeat):\n",
    "    features_zeros = features[target == 0]\n",
    "    features_ones = features[target == 1]\n",
    "    target_zeros = target[target == 0]\n",
    "    target_ones = target[target == 1]\n",
    "\n",
    "    features_upsampled = pd.concat([features_zeros] + [features_ones] * repeat)\n",
    "    target_upsampled = pd.concat([target_zeros] + [target_ones] * repeat)\n",
    "\n",
    "    features_upsampled, target_upsampled = shuffle(\n",
    "        features_upsampled, target_upsampled, random_state=12345\n",
    "    )\n",
    "\n",
    "    return features_upsampled, target_upsampled\n",
    "\n",
    "\n",
    "features_upsampled, target_upsampled = upsample(\n",
    "    features_train, target_train, 10\n",
    ")\n",
    "\n",
    "model = RandomForestClassifier(random_state=12345)\n",
    "\n",
    "model.fit(features_upsampled, target_upsampled)\n",
    "\n",
    "\n",
    "predicted_valid = model.predict(features_valid)\n",
    "\n",
    "recall = recall_score(target_valid, predicted_valid)\n",
    "precision = precision_score(target_valid, predicted_valid)\n",
    "\n",
    "f1 = f1_score(target_valid, predicted_valid)\n",
    "\n",
    "probabilities_valid = model.predict_proba(features_valid)\n",
    "probabilities_one_valid = probabilities_valid[:, 1]\n",
    "auc_roc = roc_auc_score(target_valid, probabilities_one_valid)\n",
    "\n",
    "print(\"Métricas con el ajuste de clases de 'Sobremuestreo'\")\n",
    "print(\"Recall score:\", recall)\n",
    "print(\"Precision score:\", precision)\n",
    "print(\"F1 score:\", f1)\n",
    "print(\"AUC ROC score:\", auc_roc)"
   ]
  },
  {
   "cell_type": "markdown",
   "metadata": {},
   "source": [
    "**Interpretación**\n",
    "\n",
    "Los resultados muestran que al corregir el desequilibrio de clases utilizando el enfoque de sobremuestreo se logra mejorar las métricas de evaluación en comparación con el modelo original. Con el ajuste de clases de 'Sobremuestreo', el modelo logra un puntaje de recall de aproximadamente 0.54 y un F1 score de 0.61, lo que indica una mejora en la capacidad para identificar correctamente a los clientes que abandonaron el banco en comparación con el modelo original. Sin embargo, la precisión muestra una ligera disminución en comparación con el modelo original. "
   ]
  },
  {
   "cell_type": "markdown",
   "metadata": {},
   "source": [
    "[Volver a Contenidos](#back)"
   ]
  },
  {
   "cell_type": "markdown",
   "metadata": {},
   "source": [
    "## Entrenar diferentes modelos <a id=\"train_models\"> </a>"
   ]
  },
  {
   "cell_type": "code",
   "execution_count": 10,
   "metadata": {},
   "outputs": [
    {
     "name": "stdout",
     "output_type": "stream",
     "text": [
      "En el modelo 'DecisionTreeClassifier' se logra la mejor exactitud (0.5362095531587057) con una produndidad de 14 nodos\n",
      "En el modelo 'RandomForestClassifier' se logra la mejor exactitud (0.6061814556331007) con un total de 19 árboles y una produndidad de 19 nodos\n",
      "En el modelo 'LogisticRegression' se logra la mejor exactitud (0.38077769625825386)\n"
     ]
    }
   ],
   "source": [
    "# DecisionTreeClassifier\n",
    "\n",
    "best_score = 0\n",
    "best_depth = 0\n",
    "best_model_tree = None\n",
    "for depth in range(1, 20):\n",
    "    model_tree = DecisionTreeClassifier(random_state = 12345, max_depth = depth)\n",
    "    model_tree.fit(features_upsampled, target_upsampled)\n",
    "    predicted_valid = model_tree.predict(features_valid)\n",
    "    score = f1_score(target_valid, predicted_valid)\n",
    "    if score > best_score:\n",
    "        best_score = score\n",
    "        best_depth = depth\n",
    "        best_model_tree = model_tree\n",
    "print(\"En el modelo 'DecisionTreeClassifier' se logra la mejor exactitud ({}) con una produndidad de {} nodos\".format(best_score, best_depth))\n",
    "\n",
    "\n",
    "# RandomForestClassifier\n",
    "\n",
    "best_score_forest = 0\n",
    "best_depth_forest = 0\n",
    "best_estimators = 0\n",
    "best_model_forest = None\n",
    "for est in range(1, 20):\n",
    "    for depth in range(1, 20):\n",
    "        model_forest = RandomForestClassifier(random_state=12345, max_depth=depth, n_estimators=est)\n",
    "        model_forest.fit(features_upsampled, target_upsampled)\n",
    "        predicted_valid = model_forest.predict(features_valid)\n",
    "        score = f1_score(target_valid, predicted_valid)\n",
    "        if score > best_score_forest:\n",
    "            best_score_forest = score\n",
    "            best_depth_forest = depth\n",
    "            best_estimators = est\n",
    "            best_model_forest = model_forest\n",
    "print(\"En el modelo 'RandomForestClassifier' se logra la mejor exactitud ({}) con un total de {} árboles y una produndidad de {} nodos\".format(best_score_forest,best_estimators, best_depth_forest))\n",
    "\n",
    "  \n",
    "# LogisticRegression\n",
    "model_regression = LogisticRegression(random_state=12345, solver='liblinear')\n",
    "model_regression.fit(features_upsampled, target_upsampled)\n",
    "predicted_valid = model_regression.predict(features_valid)\n",
    "score = f1_score(target_valid, predicted_valid)\n",
    "print(\"En el modelo 'LogisticRegression' se logra la mejor exactitud ({})\".format(score))\n"
   ]
  },
  {
   "cell_type": "markdown",
   "metadata": {},
   "source": [
    "**Interpretación**\n",
    "\n",
    "Después de evaluar varios modelos para encontrar el mejor modelo y los mejores conjuntos de parámetros, se observan resultados variados en términos de exactitud. El modelo 'DecisionTreeClassifier' alcanzó una exactitud máxima de 0.54 con una profundidad de 14 nodos, mientras que el modelo 'RandomForestClassifier' logró una exactitud más alta de 0.61 con un total de 19 árboles y una profundidad de 19 nodos. Por otro lado, el modelo 'LogisticRegression' mostró una exactitud más baja de 0.38. Estos hallazgos sugieren que el modelo 'RandomForestClassifier' es el más prometedor, seguido por 'DecisionTreeClassifier', mientras que 'LogisticRegression' puede no ser la mejor opción para este conjunto de datos."
   ]
  },
  {
   "cell_type": "markdown",
   "metadata": {},
   "source": [
    "[Volver a Contenidos](#back)"
   ]
  },
  {
   "cell_type": "markdown",
   "metadata": {},
   "source": [
    "## Prueba final <a id=\"last_test\"> </a>"
   ]
  },
  {
   "cell_type": "code",
   "execution_count": 11,
   "metadata": {},
   "outputs": [
    {
     "name": "stdout",
     "output_type": "stream",
     "text": [
      "F1 score: 0.6061814556331007\n",
      "AUC ROC score: 0.8415043637487811\n"
     ]
    }
   ],
   "source": [
    "# Modelo: RandomForestClassifier\n",
    "# max_depth: 19\n",
    "# n_estimators: 19\n",
    "model_forest = RandomForestClassifier(random_state=12345, max_depth=19, n_estimators=19)\n",
    "model_forest.fit(features_upsampled, target_upsampled)\n",
    "\n",
    "predicted_valid = model_forest.predict(features_valid)\n",
    "f1 = f1_score(target_valid, predicted_valid)\n",
    "\n",
    "probabilities_valid = model.predict_proba(features_valid)\n",
    "probabilities_one_valid = probabilities_valid[:, 1]\n",
    "auc_roc = roc_auc_score(target_valid, probabilities_one_valid)\n",
    "\n",
    "print(\"F1 score:\", f1)\n",
    "print(\"AUC ROC score:\", auc_roc)"
   ]
  },
  {
   "cell_type": "markdown",
   "metadata": {},
   "source": [
    "**Interpretación**\n",
    "\n",
    "Los resultados de la prueba final revelan un rendimiento sólido y prometedor del modelo seleccionado. Con un F1 score de 0.61, el modelo muestra una buena capacidad para equilibrar precisión y recall en la clasificación de clientes que abandonan el banco. Además, el puntaje AUC ROC de 0.84 indica un alto grado de discriminación entre las clases positiva y negativa, lo que sugiere que el modelo es capaz de distinguir eficazmente entre clientes que abandonan el banco y aquellos que no lo hacen. "
   ]
  },
  {
   "cell_type": "markdown",
   "metadata": {},
   "source": [
    "[Volver a Contenidos](#back)"
   ]
  },
  {
   "cell_type": "markdown",
   "metadata": {},
   "source": [
    "## Conclusión <a id=\"end\"> </a>"
   ]
  },
  {
   "cell_type": "markdown",
   "metadata": {},
   "source": [
    "\r\n",
    "El proyecto tuvo como objetivo predecir la probabilidad de que los clientes de Beta Bank abandonen la entidad, abordando un problema de desequilibrio de clases donde la mayoría de los clientes (79.63%) permanecen con el banco, mientras que solo el 20.37% lo abandonan. Este desequilibrio presentó un desafío significativo, ya que los modelos de clasificación suelen inclinarse hacia la clase mayoritaria, lo que podría llevar a una baja capacidad de detección de la clase minoritaria (clientes que abandonan).\r\n",
    "\r\n",
    "Para mejorar el rendimiento del modelo, se implementaron diversas estrategias, incluyendo el ajuste de peso de clase y el sobremuestreo. El análisis mostró que el sobremuestreo mejoró significativamente las métricas de evaluación, particularmente el *F1 score* y el *recall*, lo que indica una mejor capacidad para identificar a los clientes que abandonan el banco, a pesar de una ligera disminución en la precisión.\r\n",
    "\r\n",
    "Entre los modelos probados, el *RandomForestClassifier* mostró el mejor rendimiento general, alcanzando una exactitud máxima de 0.61 con 19 árboles y una profundidad de 19 nodos. Este modelo superó tanto al *DecisionTreeClassifier* como al modelo de *LogisticRegression* en términos de exactitud y capacidad para manejar el desequilibrio de clases.\r\n",
    "\r\n",
    "En la prueba final, el modelo ajustado logró un *F1 score* de 0.61 y un *AUC ROC score* de 0.84, lo que refleja un buen equilibrio entre precisión y recall, así como una alta capacidad para discriminar entre clientes que se quedan y los que se van. Estos resultados sugieren que el modelo desarrollado es robusto y eficaz para predecir la retención de clientes en el banco, aunque siempre es posible continuar mejorando mediante ajustes adicionales y experimentación con otros enfoques.\r\n",
    "\r\n",
    "En resumen, el proyecto ha logrado desarrollar un modelo de predicción sólido, capaz de abordar el desequilibrio de clases y proporcionar predicciones precisas sobre el comportamiento de los clientes, lo que puede ser fundamental para las estrategias de retención del banco."
   ]
  },
  {
   "cell_type": "markdown",
   "metadata": {},
   "source": [
    "[Volver a Contenidos](#back)"
   ]
  }
 ],
 "metadata": {
  "kernelspec": {
   "display_name": "Python 3 (ipykernel)",
   "language": "python",
   "name": "python3"
  },
  "language_info": {
   "codemirror_mode": {
    "name": "ipython",
    "version": 3
   },
   "file_extension": ".py",
   "mimetype": "text/x-python",
   "name": "python",
   "nbconvert_exporter": "python",
   "pygments_lexer": "ipython3",
   "version": "3.12.4"
  },
  "toc": {
   "base_numbering": 1,
   "nav_menu": {},
   "number_sections": true,
   "sideBar": true,
   "skip_h1_title": true,
   "title_cell": "Table of Contents",
   "title_sidebar": "Contents",
   "toc_cell": false,
   "toc_position": {},
   "toc_section_display": true,
   "toc_window_display": false
  }
 },
 "nbformat": 4,
 "nbformat_minor": 4
}
